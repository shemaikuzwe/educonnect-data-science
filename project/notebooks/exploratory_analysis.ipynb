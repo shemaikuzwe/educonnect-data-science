{
 "cells": [
  {
   "cell_type": "markdown",
   "id": "b40688d2",
   "metadata": {},
   "source": [
    "Feature update in notebook"
   ]
  },
  {
   "cell_type": "code",
   "execution_count": null,
   "id": "ed554f32",
   "metadata": {
    "vscode": {
     "languageId": "plaintext"
    }
   },
   "outputs": [],
   "source": [
    "import pandas as pd \n",
    "import numpy as np"
   ]
  }
 ],
 "metadata": {
  "language_info": {
   "name": "python"
  }
 },
 "nbformat": 4,
 "nbformat_minor": 5
}
